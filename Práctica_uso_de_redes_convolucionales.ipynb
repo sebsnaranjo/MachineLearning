{
  "nbformat": 4,
  "nbformat_minor": 0,
  "metadata": {
    "colab": {
      "name": "Práctica uso de redes convolucionales.ipynb",
      "provenance": [],
      "mount_file_id": "1cVW4kw1KlvzOojNm2dQlWMxcDYWCO2Aq",
      "authorship_tag": "ABX9TyOi8WSDf91NyFYR6mOaRkE6",
      "include_colab_link": true
    },
    "kernelspec": {
      "name": "python3",
      "display_name": "Python 3"
    },
    "language_info": {
      "name": "python"
    }
  },
  "cells": [
    {
      "cell_type": "markdown",
      "metadata": {
        "id": "view-in-github",
        "colab_type": "text"
      },
      "source": [
        "<a href=\"https://colab.research.google.com/github/sebsnaranjo/MachineLearning/blob/main/Pr%C3%A1ctica_uso_de_redes_convolucionales.ipynb\" target=\"_parent\"><img src=\"https://colab.research.google.com/assets/colab-badge.svg\" alt=\"Open In Colab\"/></a>"
      ]
    },
    {
      "cell_type": "markdown",
      "source": [
        "#Integrantes:\n",
        "Frank Sebastian Naranjo Castillo,\n",
        "Ana Sofia Lopera Riveros"
      ],
      "metadata": {
        "id": "ZzsDRTw6Beaw"
      }
    },
    {
      "cell_type": "code",
      "execution_count": 80,
      "metadata": {
        "id": "NdBnvHmu2tyQ",
        "colab": {
          "base_uri": "https://localhost:8080/"
        },
        "outputId": "0a0766de-a8e5-4585-ce32-3070eefe5fd9"
      },
      "outputs": [
        {
          "output_type": "stream",
          "name": "stdout",
          "text": [
            "Drive already mounted at /content/drive; to attempt to forcibly remount, call drive.mount(\"/content/drive\", force_remount=True).\n"
          ]
        }
      ],
      "source": [
        "import tensorflow as tf\n",
        "from tensorflow import keras\n",
        "import matplotlib.pyplot as plt\n",
        "import numpy as np\n",
        "from keras.constraints import maxnorm\n",
        "from keras.utils import np_utils\n",
        "import matplotlib.pyplot as plt\n",
        "import matplotlib.image as mpimg\n",
        "from tensorflow.keras import layers\n",
        "from keras.models import Sequential, model_from_json\n",
        "from keras.layers.core import Dense\n",
        "from sklearn.model_selection import train_test_split\n",
        "from keras.optimizers import *\n",
        "#Permisos para acceso de drive\n",
        "from google.colab import drive\n",
        "drive.mount('/content/drive')"
      ]
    },
    {
      "cell_type": "code",
      "source": [
        "(x_train, y_train), (x_test, y_test) = keras.datasets.mnist.load_data()"
      ],
      "metadata": {
        "id": "zvcWnGgb3ZFo"
      },
      "execution_count": 81,
      "outputs": []
    },
    {
      "cell_type": "code",
      "source": [
        "mgplot = plt.imshow(x_train[0])"
      ],
      "metadata": {
        "colab": {
          "base_uri": "https://localhost:8080/",
          "height": 265
        },
        "id": "AbsyreHW6bkm",
        "outputId": "12046503-9f1c-47a2-8086-faae603e28a2"
      },
      "execution_count": 82,
      "outputs": [
        {
          "output_type": "display_data",
          "data": {
            "text/plain": [
              "<Figure size 432x288 with 1 Axes>"
            ],
            "image/png": "[encoded data removed]"
          },
          "metadata": {
            "needs_background": "light"
          }
        }
      ]
    },
    {
      "cell_type": "code",
      "source": [
        "# llevar los valores enteros a formato de punto flotante a 32 bits\n",
        "\n",
        "x_train = x_train.astype('float32') \n",
        "\n",
        "x_test = x_test.astype('float32')\n",
        "\n",
        "# Normalizar cada una de las entradas\n",
        "\n",
        "x_train = x_train / 255.0\n",
        "\n",
        "x_test = x_test / 255.0"
      ],
      "metadata": {
        "id": "o1gMYqAA4h6A"
      },
      "execution_count": 83,
      "outputs": []
    },
    {
      "cell_type": "code",
      "source": [
        "# Convertir a one hot encoding\n",
        "\n",
        "y_train = np_utils.to_categorical(y_train)\n",
        "\n",
        "y_test = np_utils.to_categorical(y_test)\n",
        "\n",
        "# Obtener el número de clases (10)\n",
        "\n",
        "class_num = y_test.shape[1]\n",
        "\n",
        "input_shape = (28, 28, 1)"
      ],
      "metadata": {
        "id": "lX0xCKyA45h3"
      },
      "execution_count": 84,
      "outputs": []
    },
    {
      "cell_type": "code",
      "source": [
        "y_train[0]"
      ],
      "metadata": {
        "colab": {
          "base_uri": "https://localhost:8080/"
        },
        "id": "XaZhB2wh57Qi",
        "outputId": "781ff9b2-24cb-4c87-c2dd-2b106e599778"
      },
      "execution_count": 85,
      "outputs": [
        {
          "output_type": "execute_result",
          "data": {
            "text/plain": [
              "array([0., 0., 0., 0., 0., 1., 0., 0., 0., 0.], dtype=float32)"
            ]
          },
          "metadata": {},
          "execution_count": 85
        }
      ]
    },
    {
      "cell_type": "code",
      "source": [
        "input_dim = x_train.shape[1]"
      ],
      "metadata": {
        "id": "PHTQcZyz7h4L"
      },
      "execution_count": 86,
      "outputs": []
    },
    {
      "cell_type": "code",
      "source": [
        "modelo = Sequential()"
      ],
      "metadata": {
        "id": "IFWnvejK61bz"
      },
      "execution_count": 87,
      "outputs": []
    },
    {
      "cell_type": "code",
      "source": [
        "input_shape = (28, 28, 1)"
      ],
      "metadata": {
        "id": "WkEoMrGM9SdR"
      },
      "execution_count": 88,
      "outputs": []
    },
    {
      "cell_type": "code",
      "source": [
        "modelo.add(keras.Input(shape=input_shape))"
      ],
      "metadata": {
        "id": "IXiS4Mqk8MYt"
      },
      "execution_count": 89,
      "outputs": []
    },
    {
      "cell_type": "code",
      "source": [
        "modelo.add(layers.Conv2D(32, kernel_size=(3, 3), activation=\"relu\"))"
      ],
      "metadata": {
        "id": "WvqrYiVp9B97"
      },
      "execution_count": 90,
      "outputs": []
    },
    {
      "cell_type": "code",
      "source": [
        "modelo.add(layers.MaxPooling2D(pool_size=(2, 2)))"
      ],
      "metadata": {
        "id": "9uwCLHTw9Zxx"
      },
      "execution_count": 91,
      "outputs": []
    },
    {
      "cell_type": "code",
      "source": [
        "modelo.add(layers.Flatten())"
      ],
      "metadata": {
        "id": "K8Sf8mc99hOc"
      },
      "execution_count": 92,
      "outputs": []
    },
    {
      "cell_type": "code",
      "source": [
        "modelo.add( Dense(15, input_dim=input_dim, activation='relu'))\n",
        "modelo.add( Dense(class_num, activation='softmax'))"
      ],
      "metadata": {
        "id": "lxB54GFQ7PC-"
      },
      "execution_count": 93,
      "outputs": []
    },
    {
      "cell_type": "code",
      "source": [
        "modelo.summary()"
      ],
      "metadata": {
        "colab": {
          "base_uri": "https://localhost:8080/"
        },
        "id": "mvUvgCKv9z_W",
        "outputId": "6c869fe3-5f34-4cc0-f656-fcc27edd34f2"
      },
      "execution_count": 94,
      "outputs": [
        {
          "output_type": "stream",
          "name": "stdout",
          "text": [
            "Model: \"sequential_5\"\n",
            "_________________________________________________________________\n",
            " Layer (type)                Output Shape              Param #   \n",
            "=================================================================\n",
            " conv2d_4 (Conv2D)           (None, 26, 26, 32)        320       \n",
            "                                                                 \n",
            " max_pooling2d_2 (MaxPooling  (None, 13, 13, 32)       0         \n",
            " 2D)                                                             \n",
            "                                                                 \n",
            " flatten_2 (Flatten)         (None, 5408)              0         \n",
            "                                                                 \n",
            " dense_7 (Dense)             (None, 15)                81135     \n",
            "                                                                 \n",
            " dense_8 (Dense)             (None, 10)                160       \n",
            "                                                                 \n",
            "=================================================================\n",
            "Total params: 81,615\n",
            "Trainable params: 81,615\n",
            "Non-trainable params: 0\n",
            "_________________________________________________________________\n"
          ]
        }
      ]
    },
    {
      "cell_type": "code",
      "source": [
        "sgd = tf.keras.optimizers.SGD(learning_rate=0.2)\n",
        "modelo.compile(loss='categorical_crossentropy', optimizer=sgd, metrics=['accuracy'])"
      ],
      "metadata": {
        "id": "_DOgloY9-pHl"
      },
      "execution_count": 95,
      "outputs": []
    },
    {
      "cell_type": "code",
      "source": [
        "epocas = 5\n",
        "batch = 64"
      ],
      "metadata": {
        "id": "4M1-aqzN-tKW"
      },
      "execution_count": 96,
      "outputs": []
    },
    {
      "cell_type": "code",
      "source": [
        "train_model=modelo.fit(x_train, y_train, batch_size=batch, validation_data=(x_test, y_test), epochs=epocas)"
      ],
      "metadata": {
        "colab": {
          "base_uri": "https://localhost:8080/"
        },
        "id": "HWnvlUds-9Q5",
        "outputId": "543179e7-36ed-4dff-fb1d-553f2bca7c95"
      },
      "execution_count": 97,
      "outputs": [
        {
          "output_type": "stream",
          "name": "stdout",
          "text": [
            "Epoch 1/5\n",
            "938/938 [==============================] - 22s 23ms/step - loss: 0.2676 - accuracy: 0.9170 - val_loss: 0.0939 - val_accuracy: 0.9700\n",
            "Epoch 2/5\n",
            "938/938 [==============================] - 21s 23ms/step - loss: 0.0816 - accuracy: 0.9755 - val_loss: 0.0721 - val_accuracy: 0.9761\n",
            "Epoch 3/5\n",
            "938/938 [==============================] - 21s 23ms/step - loss: 0.0592 - accuracy: 0.9828 - val_loss: 0.0584 - val_accuracy: 0.9798\n",
            "Epoch 4/5\n",
            "938/938 [==============================] - 24s 25ms/step - loss: 0.0473 - accuracy: 0.9859 - val_loss: 0.0529 - val_accuracy: 0.9832\n",
            "Epoch 5/5\n",
            "938/938 [==============================] - 21s 23ms/step - loss: 0.0397 - accuracy: 0.9879 - val_loss: 0.0502 - val_accuracy: 0.9840\n"
          ]
        }
      ]
    },
    {
      "cell_type": "code",
      "source": [
        "plt.subplot(1,2,1)\n",
        "plt.plot(train_model.history['loss'])\n",
        "plt.title('Pérdida vs. iteraciones')\n",
        "plt.ylabel('Pérdida')\n",
        "plt.xlabel('Iteración')"
      ],
      "metadata": {
        "colab": {
          "base_uri": "https://localhost:8080/",
          "height": 312
        },
        "id": "23eb7wcm_v4L",
        "outputId": "b912b9ba-2769-4425-cabd-36c6d3d53dc8"
      },
      "execution_count": 98,
      "outputs": [
        {
          "output_type": "execute_result",
          "data": {
            "text/plain": [
              "Text(0.5, 0, 'Iteración')"
            ]
          },
          "metadata": {},
          "execution_count": 98
        },
        {
          "output_type": "display_data",
          "data": {
            "text/plain": [
              "<Figure size 432x288 with 1 Axes>"
            ],
            "image/png": "[encoded data removed]"
          },
          "metadata": {
            "needs_background": "light"
          }
        }
      ]
    },
    {
      "cell_type": "code",
      "source": [
        "plt.subplot(1,2,1)\n",
        "plt.plot(train_model.history['accuracy'])\n",
        "plt.title('Accuracy vs. iteraciones')\n",
        "plt.ylabel('Accuracy')\n",
        "plt.xlabel('Iteración')"
      ],
      "metadata": {
        "colab": {
          "base_uri": "https://localhost:8080/",
          "height": 312
        },
        "id": "5d062ImN_9tn",
        "outputId": "f61c6712-692a-4181-9232-324f279cb261"
      },
      "execution_count": 99,
      "outputs": [
        {
          "output_type": "execute_result",
          "data": {
            "text/plain": [
              "Text(0.5, 0, 'Iteración')"
            ]
          },
          "metadata": {},
          "execution_count": 99
        },
        {
          "output_type": "display_data",
          "data": {
            "text/plain": [
              "<Figure size 432x288 with 1 Axes>"
            ],
            "image/png": "[encoded data removed]"
          },
          "metadata": {
            "needs_background": "light"
          }
        }
      ]
    },
    {
      "cell_type": "code",
      "source": [
        "puntaje = modelo.evaluate(x_test,y_test,verbose=0)\n",
        "print('Precisión en el set de validación: ', (puntaje[1]))"
      ],
      "metadata": {
        "colab": {
          "base_uri": "https://localhost:8080/"
        },
        "id": "kIA-GucEAab-",
        "outputId": "ab8870f3-49f1-40ae-d31c-837c3e097116"
      },
      "execution_count": 101,
      "outputs": [
        {
          "output_type": "stream",
          "name": "stdout",
          "text": [
            "Precisión en el set de validación:  0.984000027179718\n"
          ]
        }
      ]
    }
  ]
}